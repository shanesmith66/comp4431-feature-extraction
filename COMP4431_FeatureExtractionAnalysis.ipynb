{
  "nbformat": 4,
  "nbformat_minor": 0,
  "metadata": {
    "colab": {
      "provenance": []
    },
    "kernelspec": {
      "name": "python3",
      "display_name": "Python 3"
    },
    "language_info": {
      "name": "python"
    }
  },
  "cells": [
    {
      "cell_type": "markdown",
      "source": [
        "Feature Extraction Analysis, using dataset of reddit comments. The goal is to determine the best method of feature extraction by testing the accuracy of various methods using this dataset. The dataset contains a column 'text' which has the raw text of the reddit comment, and another column 'label' which indicates whether or not the person has depression (the label)."
      ],
      "metadata": {
        "id": "ovEyjfnNsPD_"
      }
    },
    {
      "cell_type": "code",
      "execution_count": null,
      "metadata": {
        "id": "j-4aab76ZZGl"
      },
      "outputs": [],
      "source": [
        "# import libraries\n",
        "import gensim\n",
        "import pandas as pd\n",
        "import numpy as np"
      ]
    },
    {
      "cell_type": "code",
      "source": [
        "# read in dataset\n",
        "df = pd.read_csv(\"mental_health.csv\")\n",
        "df.head()"
      ],
      "metadata": {
        "colab": {
          "base_uri": "https://localhost:8080/",
          "height": 206
        },
        "id": "_EE1ZGNMs5Um",
        "outputId": "67e6e850-0181-4514-b687-65e88d726bae"
      },
      "execution_count": null,
      "outputs": [
        {
          "output_type": "execute_result",
          "data": {
            "text/plain": [
              "                                                text  label\n",
              "0  dear american teens question dutch person hear...      0\n",
              "1  nothing look forward lifei dont many reasons k...      1\n",
              "2  music recommendations im looking expand playli...      0\n",
              "3  im done trying feel betterthe reason im still ...      1\n",
              "4  worried  year old girl subject domestic physic...      1"
            ],
            "text/html": [
              "\n",
              "  <div id=\"df-15356f26-0ba4-4527-82ae-97c6bda270f4\">\n",
              "    <div class=\"colab-df-container\">\n",
              "      <div>\n",
              "<style scoped>\n",
              "    .dataframe tbody tr th:only-of-type {\n",
              "        vertical-align: middle;\n",
              "    }\n",
              "\n",
              "    .dataframe tbody tr th {\n",
              "        vertical-align: top;\n",
              "    }\n",
              "\n",
              "    .dataframe thead th {\n",
              "        text-align: right;\n",
              "    }\n",
              "</style>\n",
              "<table border=\"1\" class=\"dataframe\">\n",
              "  <thead>\n",
              "    <tr style=\"text-align: right;\">\n",
              "      <th></th>\n",
              "      <th>text</th>\n",
              "      <th>label</th>\n",
              "    </tr>\n",
              "  </thead>\n",
              "  <tbody>\n",
              "    <tr>\n",
              "      <th>0</th>\n",
              "      <td>dear american teens question dutch person hear...</td>\n",
              "      <td>0</td>\n",
              "    </tr>\n",
              "    <tr>\n",
              "      <th>1</th>\n",
              "      <td>nothing look forward lifei dont many reasons k...</td>\n",
              "      <td>1</td>\n",
              "    </tr>\n",
              "    <tr>\n",
              "      <th>2</th>\n",
              "      <td>music recommendations im looking expand playli...</td>\n",
              "      <td>0</td>\n",
              "    </tr>\n",
              "    <tr>\n",
              "      <th>3</th>\n",
              "      <td>im done trying feel betterthe reason im still ...</td>\n",
              "      <td>1</td>\n",
              "    </tr>\n",
              "    <tr>\n",
              "      <th>4</th>\n",
              "      <td>worried  year old girl subject domestic physic...</td>\n",
              "      <td>1</td>\n",
              "    </tr>\n",
              "  </tbody>\n",
              "</table>\n",
              "</div>\n",
              "      <button class=\"colab-df-convert\" onclick=\"convertToInteractive('df-15356f26-0ba4-4527-82ae-97c6bda270f4')\"\n",
              "              title=\"Convert this dataframe to an interactive table.\"\n",
              "              style=\"display:none;\">\n",
              "        \n",
              "  <svg xmlns=\"http://www.w3.org/2000/svg\" height=\"24px\"viewBox=\"0 0 24 24\"\n",
              "       width=\"24px\">\n",
              "    <path d=\"M0 0h24v24H0V0z\" fill=\"none\"/>\n",
              "    <path d=\"M18.56 5.44l.94 2.06.94-2.06 2.06-.94-2.06-.94-.94-2.06-.94 2.06-2.06.94zm-11 1L8.5 8.5l.94-2.06 2.06-.94-2.06-.94L8.5 2.5l-.94 2.06-2.06.94zm10 10l.94 2.06.94-2.06 2.06-.94-2.06-.94-.94-2.06-.94 2.06-2.06.94z\"/><path d=\"M17.41 7.96l-1.37-1.37c-.4-.4-.92-.59-1.43-.59-.52 0-1.04.2-1.43.59L10.3 9.45l-7.72 7.72c-.78.78-.78 2.05 0 2.83L4 21.41c.39.39.9.59 1.41.59.51 0 1.02-.2 1.41-.59l7.78-7.78 2.81-2.81c.8-.78.8-2.07 0-2.86zM5.41 20L4 18.59l7.72-7.72 1.47 1.35L5.41 20z\"/>\n",
              "  </svg>\n",
              "      </button>\n",
              "      \n",
              "  <style>\n",
              "    .colab-df-container {\n",
              "      display:flex;\n",
              "      flex-wrap:wrap;\n",
              "      gap: 12px;\n",
              "    }\n",
              "\n",
              "    .colab-df-convert {\n",
              "      background-color: #E8F0FE;\n",
              "      border: none;\n",
              "      border-radius: 50%;\n",
              "      cursor: pointer;\n",
              "      display: none;\n",
              "      fill: #1967D2;\n",
              "      height: 32px;\n",
              "      padding: 0 0 0 0;\n",
              "      width: 32px;\n",
              "    }\n",
              "\n",
              "    .colab-df-convert:hover {\n",
              "      background-color: #E2EBFA;\n",
              "      box-shadow: 0px 1px 2px rgba(60, 64, 67, 0.3), 0px 1px 3px 1px rgba(60, 64, 67, 0.15);\n",
              "      fill: #174EA6;\n",
              "    }\n",
              "\n",
              "    [theme=dark] .colab-df-convert {\n",
              "      background-color: #3B4455;\n",
              "      fill: #D2E3FC;\n",
              "    }\n",
              "\n",
              "    [theme=dark] .colab-df-convert:hover {\n",
              "      background-color: #434B5C;\n",
              "      box-shadow: 0px 1px 3px 1px rgba(0, 0, 0, 0.15);\n",
              "      filter: drop-shadow(0px 1px 2px rgba(0, 0, 0, 0.3));\n",
              "      fill: #FFFFFF;\n",
              "    }\n",
              "  </style>\n",
              "\n",
              "      <script>\n",
              "        const buttonEl =\n",
              "          document.querySelector('#df-15356f26-0ba4-4527-82ae-97c6bda270f4 button.colab-df-convert');\n",
              "        buttonEl.style.display =\n",
              "          google.colab.kernel.accessAllowed ? 'block' : 'none';\n",
              "\n",
              "        async function convertToInteractive(key) {\n",
              "          const element = document.querySelector('#df-15356f26-0ba4-4527-82ae-97c6bda270f4');\n",
              "          const dataTable =\n",
              "            await google.colab.kernel.invokeFunction('convertToInteractive',\n",
              "                                                     [key], {});\n",
              "          if (!dataTable) return;\n",
              "\n",
              "          const docLinkHtml = 'Like what you see? Visit the ' +\n",
              "            '<a target=\"_blank\" href=https://colab.research.google.com/notebooks/data_table.ipynb>data table notebook</a>'\n",
              "            + ' to learn more about interactive tables.';\n",
              "          element.innerHTML = '';\n",
              "          dataTable['output_type'] = 'display_data';\n",
              "          await google.colab.output.renderOutput(dataTable, element);\n",
              "          const docLink = document.createElement('div');\n",
              "          docLink.innerHTML = docLinkHtml;\n",
              "          element.appendChild(docLink);\n",
              "        }\n",
              "      </script>\n",
              "    </div>\n",
              "  </div>\n",
              "  "
            ]
          },
          "metadata": {},
          "execution_count": 4
        }
      ]
    },
    {
      "cell_type": "code",
      "source": [
        "# explore data\n",
        "df.nunique()"
      ],
      "metadata": {
        "colab": {
          "base_uri": "https://localhost:8080/"
        },
        "id": "WVAkB1LMuYVx",
        "outputId": "074857a3-ff22-4045-b945-d9b8dbf5781c"
      },
      "execution_count": null,
      "outputs": [
        {
          "output_type": "execute_result",
          "data": {
            "text/plain": [
              "text     27972\n",
              "label        2\n",
              "dtype: int64"
            ]
          },
          "metadata": {},
          "execution_count": 5
        }
      ]
    },
    {
      "cell_type": "code",
      "source": [
        "df.shape"
      ],
      "metadata": {
        "colab": {
          "base_uri": "https://localhost:8080/"
        },
        "id": "DbHbtOK-4D6r",
        "outputId": "e2310416-af41-4411-e780-b57b319d4cef"
      },
      "execution_count": null,
      "outputs": [
        {
          "output_type": "execute_result",
          "data": {
            "text/plain": [
              "(27977, 2)"
            ]
          },
          "metadata": {},
          "execution_count": 6
        }
      ]
    },
    {
      "cell_type": "code",
      "source": [
        "# show column we are interested in \n",
        "df.text"
      ],
      "metadata": {
        "colab": {
          "base_uri": "https://localhost:8080/"
        },
        "id": "A0gMiOcw3qWp",
        "outputId": "8ddb7d0c-f0d5-4656-9510-1d9cda14356a"
      },
      "execution_count": null,
      "outputs": [
        {
          "output_type": "execute_result",
          "data": {
            "text/plain": [
              "0        dear american teens question dutch person hear...\n",
              "1        nothing look forward lifei dont many reasons k...\n",
              "2        music recommendations im looking expand playli...\n",
              "3        im done trying feel betterthe reason im still ...\n",
              "4        worried  year old girl subject domestic physic...\n",
              "                               ...                        \n",
              "27972    posting everyday people stop caring  religion ...\n",
              "27973    okay definetly need hear guys opinion ive pret...\n",
              "27974    cant get dog think ill kill myselfthe last thi...\n",
              "27975    whats point princess bridei really think like ...\n",
              "27976    got nudes person might might know snapchat do ...\n",
              "Name: text, Length: 27977, dtype: object"
            ]
          },
          "metadata": {},
          "execution_count": 7
        }
      ]
    },
    {
      "cell_type": "code",
      "source": [
        "# show example of how simple_preprocess works in gensim\n",
        "\n",
        "df.text[0]"
      ],
      "metadata": {
        "colab": {
          "base_uri": "https://localhost:8080/",
          "height": 35
        },
        "id": "_P4oN0tW4rsX",
        "outputId": "edcc90db-3c18-4d40-a1b4-80c3561ebc07"
      },
      "execution_count": null,
      "outputs": [
        {
          "output_type": "execute_result",
          "data": {
            "text/plain": [
              "'dear american teens question dutch person heard guys get way easier things learn age us sooooo thth graders like  right guys learn math'"
            ],
            "application/vnd.google.colaboratory.intrinsic+json": {
              "type": "string"
            }
          },
          "metadata": {},
          "execution_count": 8
        }
      ]
    },
    {
      "cell_type": "code",
      "source": [
        "# perform data preprocessing \n",
        "# not super necessary here, data is already cleaned (all lowercase, stop words gone, punctuation gone etc.)\n",
        "# this will be useful for word tokenization though\n",
        "gensim.utils.simple_preprocess(\"dear american teens question dutch person heard guys get way easier things learn age us sooooo thth graders like  right guys learn math\")"
      ],
      "metadata": {
        "colab": {
          "base_uri": "https://localhost:8080/"
        },
        "id": "vGYxPLu_4bo9",
        "outputId": "b70c2730-2119-4215-9669-7c773f0348bc"
      },
      "execution_count": null,
      "outputs": [
        {
          "output_type": "execute_result",
          "data": {
            "text/plain": [
              "['dear',\n",
              " 'american',\n",
              " 'teens',\n",
              " 'question',\n",
              " 'dutch',\n",
              " 'person',\n",
              " 'heard',\n",
              " 'guys',\n",
              " 'get',\n",
              " 'way',\n",
              " 'easier',\n",
              " 'things',\n",
              " 'learn',\n",
              " 'age',\n",
              " 'us',\n",
              " 'sooooo',\n",
              " 'thth',\n",
              " 'graders',\n",
              " 'like',\n",
              " 'right',\n",
              " 'guys',\n",
              " 'learn',\n",
              " 'math']"
            ]
          },
          "metadata": {},
          "execution_count": 9
        }
      ]
    },
    {
      "cell_type": "code",
      "source": [
        "# preprocess the entire text column\n",
        "processed_text = df.text.apply(gensim.utils.simple_preprocess)"
      ],
      "metadata": {
        "id": "lsaKHMyx6F8R"
      },
      "execution_count": null,
      "outputs": []
    },
    {
      "cell_type": "code",
      "source": [
        "# display processed text\n",
        "processed_text"
      ],
      "metadata": {
        "colab": {
          "base_uri": "https://localhost:8080/"
        },
        "id": "359aHOYP6XKC",
        "outputId": "1f193e58-64aa-4f03-f09f-b8d28f238623"
      },
      "execution_count": null,
      "outputs": [
        {
          "output_type": "execute_result",
          "data": {
            "text/plain": [
              "0        [dear, american, teens, question, dutch, perso...\n",
              "1        [nothing, look, forward, lifei, dont, many, re...\n",
              "2        [music, recommendations, im, looking, expand, ...\n",
              "3        [im, done, trying, feel, betterthe, reason, im...\n",
              "4        [worried, year, old, girl, subject, domestic, ...\n",
              "                               ...                        \n",
              "27972    [posting, everyday, people, stop, caring, reli...\n",
              "27973    [okay, definetly, need, hear, guys, opinion, i...\n",
              "27974    [cant, get, dog, think, ill, kill, myselfthe, ...\n",
              "27975    [whats, point, princess, bridei, really, think...\n",
              "27976    [got, nudes, person, might, might, know, snapc...\n",
              "Name: text, Length: 27977, dtype: object"
            ]
          },
          "metadata": {},
          "execution_count": 11
        }
      ]
    },
    {
      "cell_type": "code",
      "source": [
        "# initialize gensim model\n",
        "w2v_model = gensim.models.Word2Vec(\n",
        "    window=5,\n",
        "    min_count=2,\n",
        "    workers=4\n",
        ")"
      ],
      "metadata": {
        "id": "55J2IObU7Acm"
      },
      "execution_count": null,
      "outputs": []
    },
    {
      "cell_type": "code",
      "source": [
        "# build vocabulary (unique list of words)\n",
        "w2v_model.build_vocab(processed_text, progress_per=1000)"
      ],
      "metadata": {
        "id": "RiHGylpY7hja"
      },
      "execution_count": null,
      "outputs": []
    },
    {
      "cell_type": "code",
      "source": [
        "w2v_model.epochs"
      ],
      "metadata": {
        "colab": {
          "base_uri": "https://localhost:8080/"
        },
        "id": "zK6qkDcy8j_m",
        "outputId": "bb69b53a-9d76-4c2b-a931-b8818f154394"
      },
      "execution_count": null,
      "outputs": [
        {
          "output_type": "execute_result",
          "data": {
            "text/plain": [
              "5"
            ]
          },
          "metadata": {},
          "execution_count": 14
        }
      ]
    },
    {
      "cell_type": "code",
      "source": [
        "w2v_model.corpus_count"
      ],
      "metadata": {
        "colab": {
          "base_uri": "https://localhost:8080/"
        },
        "id": "73RkxLrr8ypn",
        "outputId": "4fdbb1e7-48bc-4a4f-a349-5b86f8b80f7e"
      },
      "execution_count": null,
      "outputs": [
        {
          "output_type": "execute_result",
          "data": {
            "text/plain": [
              "27977"
            ]
          },
          "metadata": {},
          "execution_count": 15
        }
      ]
    },
    {
      "cell_type": "code",
      "source": [
        "# train the model\n",
        "w2v_model.train(processed_text, total_examples=w2v_model.corpus_count, epochs=w2v_model.epochs)"
      ],
      "metadata": {
        "colab": {
          "base_uri": "https://localhost:8080/"
        },
        "id": "Js8e9C2p8rei",
        "outputId": "2dc9f966-f8dc-49ed-bc2f-539f815e427b"
      },
      "execution_count": null,
      "outputs": [
        {
          "output_type": "execute_result",
          "data": {
            "text/plain": [
              "(9085551, 9988215)"
            ]
          },
          "metadata": {},
          "execution_count": 16
        }
      ]
    },
    {
      "cell_type": "code",
      "source": [
        "# save model\n",
        "w2v_model.save(\"word2vec.model\")"
      ],
      "metadata": {
        "id": "cqsN_jAq9Mnx"
      },
      "execution_count": null,
      "outputs": []
    },
    {
      "cell_type": "code",
      "source": [
        "# test out model visually\n",
        "w2v_model.wv.most_similar(\"sad\")"
      ],
      "metadata": {
        "colab": {
          "base_uri": "https://localhost:8080/"
        },
        "id": "gL6frfPT94RC",
        "outputId": "55c5355e-dd11-4088-be2d-7d2bb2208bf3"
      },
      "execution_count": null,
      "outputs": [
        {
          "output_type": "execute_result",
          "data": {
            "text/plain": [
              "[('lonely', 0.789612889289856),\n",
              " ('angry', 0.7740035057067871),\n",
              " ('upset', 0.7641036510467529),\n",
              " ('depressed', 0.7409121990203857),\n",
              " ('genuinely', 0.723389744758606),\n",
              " ('confused', 0.722817599773407),\n",
              " ('happy', 0.7174826860427856),\n",
              " ('jealous', 0.7104412317276001),\n",
              " ('guilty', 0.7059646248817444),\n",
              " ('honestly', 0.7045464515686035)]"
            ]
          },
          "metadata": {},
          "execution_count": 18
        }
      ]
    },
    {
      "cell_type": "code",
      "source": [
        "# similarity score\n",
        "w2v_model.wv.similarity(w1=\"sad\", w2=\"depressed\")"
      ],
      "metadata": {
        "colab": {
          "base_uri": "https://localhost:8080/"
        },
        "id": "DuDBCy7M-FBu",
        "outputId": "58f2739a-4d6b-4504-e616-f4076c51cde2"
      },
      "execution_count": null,
      "outputs": [
        {
          "output_type": "execute_result",
          "data": {
            "text/plain": [
              "0.7409122"
            ]
          },
          "metadata": {},
          "execution_count": 19
        }
      ]
    },
    {
      "cell_type": "code",
      "source": [
        "# show word vector for sad\n",
        "w2v_model.wv['sad']"
      ],
      "metadata": {
        "colab": {
          "base_uri": "https://localhost:8080/"
        },
        "id": "qEtQ-uD9csf4",
        "outputId": "995ddbdc-2051-4b3c-a7a8-73c33899f426"
      },
      "execution_count": null,
      "outputs": [
        {
          "output_type": "execute_result",
          "data": {
            "text/plain": [
              "array([ 1.0104666 , -0.93931943,  0.01189941, -0.94821906,  0.19007432,\n",
              "       -0.2183634 ,  0.30052337, -1.4365295 ,  1.0659277 ,  1.0451627 ,\n",
              "        0.3271546 , -0.55468476, -1.4237788 , -0.5777288 , -0.7728567 ,\n",
              "        0.46439722,  0.5898041 ,  1.1547302 , -0.5790551 ,  0.49785003,\n",
              "        0.07761248,  0.6651478 , -0.03519844,  0.1224975 ,  1.0650253 ,\n",
              "       -0.62421256, -0.33112928,  0.4296295 ,  0.19804901,  0.20989165,\n",
              "       -0.18744887,  0.76746124,  0.84889954,  0.7750336 , -1.8260312 ,\n",
              "        0.41376936,  2.7407935 , -1.7676637 ,  0.8710339 ,  0.10614733,\n",
              "        1.5761476 , -0.33825204,  0.51509243,  2.3070486 , -1.0409973 ,\n",
              "       -1.3344456 , -0.50425285, -0.6565652 ,  0.26839003, -0.27152115,\n",
              "       -0.5998513 , -0.24119103,  1.3804125 ,  0.5864011 , -0.6450711 ,\n",
              "       -0.94272566,  0.90675145,  0.07676438, -0.20897162, -0.65528303,\n",
              "        0.0808342 , -0.48816195,  0.92590714, -0.68288743,  0.30407584,\n",
              "        1.009887  , -0.8856558 ,  0.2819892 ,  0.24609473, -1.0399946 ,\n",
              "        0.3130331 , -0.26228994, -0.9739576 , -0.4168793 , -0.28611708,\n",
              "        1.1731366 , -2.1251414 , -0.3474003 ,  0.33952907,  3.5985386 ,\n",
              "       -1.1920137 ,  1.4204733 , -2.2425225 , -0.7630748 ,  0.5563333 ,\n",
              "        1.4988918 , -0.9512678 ,  0.41144747,  0.82907706,  0.4430633 ,\n",
              "       -0.05841576,  0.23904373, -0.11302678,  1.5208805 , -1.5711533 ,\n",
              "       -0.6903099 ,  1.8967572 ,  0.8021958 , -0.16543935,  1.3837843 ],\n",
              "      dtype=float32)"
            ]
          },
          "metadata": {},
          "execution_count": 21
        }
      ]
    }
  ]
}